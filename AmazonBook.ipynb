{
  "nbformat": 4,
  "nbformat_minor": 0,
  "metadata": {
    "colab": {
      "provenance": [],
      "collapsed_sections": [],
      "include_colab_link": true
    },
    "kernelspec": {
      "name": "python3",
      "display_name": "Python 3"
    },
    "language_info": {
      "name": "python"
    }
  },
  "cells": [
    {
      "cell_type": "markdown",
      "metadata": {
        "id": "view-in-github",
        "colab_type": "text"
      },
      "source": [
        "<a href=\"https://colab.research.google.com/github/ahmed98Osama/Amazon-Web-scrapping-using-selenium/blob/main/AmazonBook.ipynb\" target=\"_parent\"><img src=\"https://colab.research.google.com/assets/colab-badge.svg\" alt=\"Open In Colab\"/></a>"
      ]
    },
    {
      "cell_type": "code",
      "source": [
        "!pip install selenium\n",
        "!apt-get update \n",
        "!apt install chromium-chromedriver\n",
        "!cp /usr/lib/chromium-browser/chromedriver '/content/'\n",
        "import csv\n",
        "import sys\n",
        "import time\n",
        "sys.path.insert(0,'/content/')\n",
        "from selenium import webdriver"
      ],
      "metadata": {
        "id": "AzeGhHjPdAnl"
      },
      "execution_count": null,
      "outputs": []
    },
    {
      "cell_type": "code",
      "source": [
        "chrome_options = webdriver.ChromeOptions()\n",
        "chrome_options.add_argument('--headless')\n",
        "chrome_options.add_argument('--no-sandbox')\n",
        "chrome_options.add_argument('--disable-dev-shm-usage')\n",
        "wd = webdriver.Chrome('chromedriver',chrome_options=chrome_options)"
      ],
      "metadata": {
        "id": "vpL1N4fFu-mT"
      },
      "execution_count": null,
      "outputs": []
    },
    {
      "cell_type": "code",
      "source": [
        "\n",
        "productList = []\n",
        "priceList = []\n",
        "id = 1\n",
        "\n",
        "wd.get('https://www.amazon.in/gp/bestsellers/books/')\n",
        "wd.execute_script(\"window.scrollTo(0, document.body.scrollHeight);\") # To scroll down\n",
        "time.sleep(4)\n",
        "products = wd.find_elements_by_xpath(\"//div[@id='gridItemRoot']//a/span/div\") # to get product number\n",
        "print(len(products))\n",
        "\n",
        "for i in range (len(products)):\n",
        "\n",
        "    product = wd.find_element_by_xpath(f\"//div[@id='gridItemRoot'][{i+1}]//span/div\").text # to get only one product , number i+1 \n",
        "    productList.append(str(product))\n",
        "    try:\n",
        "      price = wd.find_element_by_xpath(f\"//div[@id='gridItemRoot'][{i+1}]//span/span\").text # to get only one price , number i+1 \n",
        "    except:\n",
        "      price = \"null\"  # to set price null if not found \n",
        "    priceList.append(price)\n",
        "    print(str(id)+  \"    \" +product + \"      \" + price)\n",
        "    id = id+1\n"
      ],
      "metadata": {
        "id": "mg1tgrzKdeP2"
      },
      "execution_count": null,
      "outputs": []
    },
    {
      "cell_type": "code",
      "source": [
        "with open('/content/AmazonBooks.csv', 'w',encoding='utf-8',newline='') as csvfile:\n",
        "  csvwriter = csv.writer(csvfile, delimiter=',')\n",
        "  csvwriter.writerow(['Book','Price'])\n",
        "  for i in range(len(products)):\n",
        "    csvwriter.writerow([productList[i],priceList[i]])\n",
        "\n",
        "#you will found CSV file in Files on the left"
      ],
      "metadata": {
        "id": "riCH5gFlHR16"
      },
      "execution_count": null,
      "outputs": []
    },
    {
      "cell_type": "code",
      "source": [
        "wd.close() "
      ],
      "metadata": {
        "id": "2SUhiSlXLMs7"
      },
      "execution_count": null,
      "outputs": []
    }
  ]
}